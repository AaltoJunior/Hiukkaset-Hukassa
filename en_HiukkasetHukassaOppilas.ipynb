{
 "cells": [
  {
   "cell_type": "markdown",
   "metadata": {
    "slideshow": {
     "slide_type": "-"
    }
   },
   "source": [
    "<br>\n",
    " <img src=\"https://github.com/cms-opendata-education/cms-jupyter-materials-finnish/blob/master/Kuvat/CMSlogo_color_label_1024_May2014.png?raw=true\"  align=\"right\" width=\"100px\" title=\"CMS projektin oma logo\">                   \n",
    " <img src=\"https://github.com/cms-opendata-education/cms-jupyter-materials-finnish/blob/master/Kuvat/aaltojunior_logo.PNG?raw=true\"  align=\"right\" width=\"150px\" title=\"CMS projektin oma logo\">\n",
    " <br>\n",
    " \n",
    "\n",
    "# Lost particles\n",
    "     Aalto University Junior x CMS open data\n",
    "Welcome to the fascinating and strange world of particle physics.\n",
    "\n",
    "Table of contetents:\n",
    "\n",
    "1. [Koodin alustus](#alustus)\n",
    "2. [Tutoriaali Pandas DataFrameihin](#tut)\n",
    "3. [Tehtävän alustus](#teht)\n",
    "    - [Invariantti massa](#inv)\n",
    "    - [Histogrammit](#demo1)\n",
    "4. [Datan kimppuun](#handson)\n",
    "5. [Tulosten vertailu](#wrapup)\n",
    "6. [Lähteet](#sources)\n",
    "\n",
    "\n",
    "****\n",
    "\n",
    "# Firstly...\n",
    "\n",
    "This file is a student version containing exercises and demos on the CMS open data. Answer all $\\color{blue}{\\text{questions}}$ and have fun with the data!\n",
    "\n",
    "The file format is **Jupyter notebook**, which combines text and code written in **Python** programming language. Python is characterised by the use of many pre-written **library packages**, so that the user does not have to figure out how to perform a mathematical operation or how to process a particular type of data.\n",
    "\n",
    "In Jupyter notebooks, the code and text content is divided into blocks. It is possible to run the blocks in step-by-step order by pressing $\\color{red}{\\text{ [shift] + [enter]}}$\n",
    "\n",
    "Remember to proceed in order, because some code may depend on code written in a previous block!\n",
    "\n"
   ]
  },
  {
   "cell_type": "markdown",
   "metadata": {},
   "source": [
    "<a id=\"alustus\"></a>\n",
    "### Initialization of the code\n",
    "Below is a code cell that, when run, fetches the necessary Python packages. (Behind the links is more information/documentation about those libraries that is not mandatory.)\n",
    "\n",
    "- [Pandas](https://pandas.pydata.org/docs/user_guide/10min.html) is for data analysis\n",
    "- [numpy](https://numpy.org/learn/) is useful for scientific computing\n",
    "- [matplotlib.pyplot](https://matplotlib.org/stable/tutorials/index) allows you to plot graphs\n",
    "\n",
    "We define a shorter names for them (pd, np and plt) so that you don't have to type the full package name when you use them later.\n"
   ]
  },
  {
   "cell_type": "code",
   "execution_count": 1,
   "metadata": {
    "slideshow": {
     "slide_type": "-"
    }
   },
   "outputs": [],
   "source": [
    "import pandas as pd\n",
    "import numpy as np\n",
    "import matplotlib.pyplot as plt\n",
    "from en_apufunktiot import *"
   ]
  },
  {
   "cell_type": "code",
   "execution_count": 3,
   "metadata": {
    "slideshow": {
     "slide_type": "skip"
    },
    "tags": []
   },
   "outputs": [],
   "source": [
    "# Define the table to be studied and title the rows and columns\n",
    "LHC_koeasemat = pd.DataFrame({'Name':['CMS', 'ATLAS', 'ALICE', 'LHCb'],\n",
    "        'Weight':[14000, 7000, 10000, 5600], # Tons\n",
    "        'Length':[21, 46, 26, 21], # Meters\n",
    "        'Width':[15, 25, 16, 13], # Meters\n",
    "        'Height':[15, 25, 16, 10]})  # Meters\n",
    "# create a table and save it to the \"LHC_koeasemat\" handle.\n",
    "# The table contains information on test sites in the LHC collider [lähdee]."
   ]
  },
  {
   "cell_type": "code",
   "execution_count": null,
   "metadata": {
    "slideshow": {
     "slide_type": "skip"
    },
    "tags": []
   },
   "outputs": [],
   "source": [
    "# Using the .head() function\n",
    "LHC_koeasemat.head() # It returns 5 first rows of our data."
   ]
  },
  {
   "cell_type": "code",
   "execution_count": null,
   "metadata": {
    "slideshow": {
     "slide_type": "skip"
    },
    "tags": []
   },
   "outputs": [],
   "source": [
    "# Select the column \"Name\" and print it\n",
    "print(LHC_koeasemat.Name)"
   ]
  },
  {
   "cell_type": "code",
   "execution_count": null,
   "metadata": {
    "slideshow": {
     "slide_type": "skip"
    },
    "tags": []
   },
   "outputs": [],
   "source": [
    "# Calculation of how many rows there are in the table and print the answer\n",
    "length = len(LHC_koeasemat)\n",
    "print(length)"
   ]
  },
  {
   "cell_type": "code",
   "execution_count": null,
   "metadata": {
    "slideshow": {
     "slide_type": "skip"
    },
    "tags": []
   },
   "outputs": [],
   "source": [
    "# LHC_koeasemat.Weight      chooses the column named 'Weight' in the 'LHC koeasemat' table\n",
    "# max(LHC_koeasemat.Weight )    finds the maximum weight from the data\n",
    "# print(max(LHC_koeasemat.Weight))  prints the result of max() function.\n",
    "\n",
    "maximum_weight = max(LHC_koeasemat.Weight)\n",
    "print(maximum_weight)\n",
    "\n",
    "#we get the minimum values the same way:\n",
    "minimum_height = min(LHC_koeasemat.Height)\n",
    "print(minimum_height)"
   ]
  },
  {
   "cell_type": "markdown",
   "metadata": {
    "slideshow": {
     "slide_type": "skip"
    }
   },
   "source": [
    "<br>\n",
    "<br>\n",
    "\n",
    "\n",
    "#### Calculating with python\n",
    "Python is a versatile programming language that can handle large amounts of data and perform elaborate calculations. Let's start the exercise with basic calculations, using the above example of expressions used in particle physics. Use the data in the table to calculate some spatial dimensions using familiar formulas. The example table is already stored in the computer memory.\n",
    "\n",
    "In the beginning we downloaded the _numpy_ library and saved it as _np_. The library contains predefined functions that make it easy to perform calculations. For example, `np.sqrt(x)` is equivalent to $\\sqrt x$. In addition, `(x)\\**2` and `np.square(x)` both correspond to $x^2$.\n",
    "\n",
    "For simplicity, assume that all particle detectors in the list would be cylinders. However, this is not the case in reality."
   ]
  },
  {
   "cell_type": "code",
   "execution_count": null,
   "metadata": {
    "slideshow": {
     "slide_type": "skip"
    },
    "tags": []
   },
   "outputs": [],
   "source": [
    "# let's remember what the table looks like\n",
    "LHC_koeasemat.head()"
   ]
  },
  {
   "cell_type": "markdown",
   "metadata": {
    "slideshow": {
     "slide_type": "skip"
    }
   },
   "source": [
    " <img src=\"img/laskuharjoitus_lavistaja.png\"  align=\"right\" width=\"400px\" title=\"[Kuva 1]  Törmäyksestä syntyneiden kahden myonin invariantin massan jakauma vuosilta 2017 ja 2018. Jakaumasta erottaa selvästi niiden hiukkasten piikit jotka voivat hajota kahdeksi myoniksi.\">\n",
    "\n",
    " \n",
    "Since we made the assumption that each detector is a cylinder, we can easily calculate \n",
    "- **volumes V :** $\\pi (\\frac{d}{2})^2 \\cdot l$  \n",
    "- **densities :** $\\frac{m}{V}$.\n",
    "- **diagonals x :** by Pythagorean theorem, $\\sqrt{(d)^2+l^2}$\n",
    "\n",
    "where **$r$** is the diagonal of the bottom of the cylinder, i.e. the height of the detector, **$l$** is the height of the cylinder, i.e. the length of the detector, and **$m$** is the mass of the detector."
   ]
  },
  {
   "cell_type": "code",
   "execution_count": null,
   "metadata": {
    "slideshow": {
     "slide_type": "skip"
    },
    "tags": []
   },
   "outputs": [],
   "source": [
    "# Calculating the volume\n",
    "##  np.pi is an approximation of pi\n",
    "##  two asterisks denote a power\n",
    "\n",
    "volume = np.pi * (LHC_koeasemat.Height /2 )**2 * LHC_koeasemat.Length\n",
    "print(volume)"
   ]
  },
  {
   "cell_type": "code",
   "execution_count": null,
   "metadata": {
    "slideshow": {
     "slide_type": "skip"
    },
    "tags": []
   },
   "outputs": [],
   "source": [
    "# Calculatinag the density\n",
    "\n",
    "density = LHC_koeasemat.Weight / volume\n",
    "print(density)"
   ]
  },
  {
   "cell_type": "code",
   "execution_count": null,
   "metadata": {
    "slideshow": {
     "slide_type": "skip"
    },
    "tags": []
   },
   "outputs": [],
   "source": [
    "# Calculating the diagonal\n",
    "\n",
    "diagonal = np.sqrt((LHC_koeasemat.Length)**2 + (LHC_koeasemat.Height)**2)\n",
    "print(diagonal)"
   ]
  },
  {
   "cell_type": "markdown",
   "metadata": {
    "slideshow": {
     "slide_type": "skip"
    }
   },
   "source": [
    "<a id=\"hist_tut\"></a>\n",
    "#### Histogram using python\n",
    "\n",
    "\n",
    "To plot the histogram, we use the _matplotlib.pyplot_ package which we saved as _plt_ at the beginning. The package is used to draw the histogram easily using the function `plt.hist()`."
   ]
  },
  {
   "cell_type": "code",
   "execution_count": null,
   "metadata": {
    "slideshow": {
     "slide_type": "skip"
    },
    "tags": []
   },
   "outputs": [],
   "source": [
    "# Create a histogram\n",
    "# plt.hist() takes three values as arguments:\n",
    "### the name of the file from which the histogram is drawn\n",
    "### bins tells how many columns to divide the observations into\n",
    "### range specifies the range over which the histogram will be generated\n",
    "\n",
    "plt.hist(LHC_koeasemat.Height, bins=4, range=(10,30))  \n",
    "\n",
    "# Name the axis\n",
    "plt.xlabel(\"Height (m)\")\n",
    "plt.ylabel(\"Number of observations\")\n",
    "\n",
    "# Name the graph\n",
    "plt.title(\"Histogram of the height of the detectors\")\n",
    "\n",
    "# Show the graph\n",
    "plt.show()"
   ]
  },
  {
   "cell_type": "markdown",
   "metadata": {},
   "source": [
    "With small amounts of data, a histogram adds no value to the analysis of the numbers and is not useful. However, it may be that with particle physics data sets, a histogram can provide clarity on, for example, _spike data_..."
   ]
  },
  {
   "cell_type": "markdown",
   "metadata": {
    "slideshow": {
     "slide_type": "slide"
    }
   },
   "source": [
    "****\n",
    "\n",
    "<a id=\"teht\"></a>\n",
    "# Task\n",
    "\n",
    "A CERN summer intern has been tasked with studying the research data measured by CMS in 2011. The data includes a selection of events where two muons were detected by a particle detector. Based on previous observations, it is known that many particles can decay into just two muons and can be identified by their invariant mass. A busy summer intern has forgotten to keep the important measurement data in order. Now he has six strangely named files of CMS measurement data. Each file contains the measured values of two muons, perhaps from the decay of a particle. A summer intern asks for your help in examining the contents of the files.\n",
    "\n",
    "\n",
    "$\\color{black}{\\text{Hypothesis: The masses of parent particles can be determined using invariant mass values to find particles that can decay into two muons.}}$"
   ]
  },
  {
   "cell_type": "markdown",
   "metadata": {},
   "source": [
    "****\n",
    "<a id=\"inv\"></a>\n",
    "## Invariant mass?\n",
    "\n",
    "In the world of particle physics, the formulas of ordinary mechanics may no longer apply when mass is converted into energy and vice versa. But conservation laws do exist! The energy and the amount of motion of particles can be used to form a quantity called **invariant mass**. It is a mathematical value describing the mass characteristic of a decayed parent particle and is \"invariant\" to the measurement environment, i.e. it can be calculated anywhere and for anything.\n",
    "\n",
    "This quantity is useful when dealing with particles that decay in less than a fraction of a second. For example, the Higgs particle has a lifetime expectation of $10^{-22}$ seconds [[6](#higs)], so it can be difficult to weigh even on an analysis scale. A device like the CMS measures the amount of motion and energy of the decaying particles, the daughter particles, and the _invariant mass_ can be calculated from them. The invariant mass of the daughter particles from a given decay is close to the mass of the parent particle. For unrelated particles, on the other hand, the invariant mass describes nothing, but is just background noise.\n",
    "\n",
    "**The invariant mass is thus conserved as the particle decays into new particles.** Particle detectors such as CMS mainly detect these daughter particles, which are more stable than the parent particles. Since there are huge number of decays in each collision, and calculating the invariant mass of unrelated particles gives nothing but noise, researchers have to look at large amounts of data. The **Histogram** is an excellent tool for examining data, as it makes it easy to separate noise from meaningful results. Spikes in the invariant mass histogram can indicate a particular energetic parent particle.\n",
    "[More information](https://profmattstrassler.com/articles-and-posts/particle-physics-basics/mass-energy-matter-etc/mass-and-energy/)\n",
    "\n",
    "<br>\n",
    " <img src=\"https://github.com/cms-opendata-education/cms-jupyter-materials-finnish/blob/master/Kuvat/inv_massa.PNG?raw=true\"  align=\"left\" width=\"600px\" title=\"[Kuva 8]  Törmäyksestä syntyneiden kahden myonin invariantin massan jakauma vuosilta 2017 ja 2018. Jakaumasta erottaa selvästi niiden hiukkasten piikit jotka voivat hajota kahdeksi myoniksi.\">\n",
    " <br>\n",
    " \n",
    "\n",
    "****"
   ]
  },
  {
   "cell_type": "markdown",
   "metadata": {},
   "source": [
    "<a id=\"demo1\"></a>\n",
    "**Histograms with different amounts of data**\n",
    "\n",
    "Let's try how the amount of data affects our results. The code underneath draws a histogram of the invariant mass of two high-energy muons from the given data (4 times). We begin with analyzing small numbers 0-20 and then increase the amount of data as we go, e.g. 5, 20, 300, 10000."
   ]
  },
  {
   "cell_type": "code",
   "execution_count": null,
   "metadata": {
    "tags": []
   },
   "outputs": [],
   "source": [
    "# Download the data file and save it to the 'data' handle.\n",
    "!curl --insecure https://raw.githubusercontent.com/cms-opendata-education/cms-jupyter-materials-finnish/master/Data/Zmumu_Run2011A_massoilla.csv > Zmumu_Run2011A_massoilla.csv\n",
    "\n",
    "data = pd.read_csv('Zmumu_Run2011A_massoilla.csv')\n",
    "\n",
    "# Save the invariant masses in the data file under the 'invariant_mass' handle.\n",
    "invariant_mass = data['M']"
   ]
  },
  {
   "cell_type": "markdown",
   "metadata": {
    "slideshow": {
     "slide_type": "skip"
    },
    "tags": []
   },
   "source": [
    "****\n",
    "<a id=\"handson\"></a>\n",
    "# Data analysing\n"
   ]
  },
  {
   "cell_type": "code",
   "execution_count": null,
   "metadata": {},
   "outputs": [],
   "source": [
    "# Download the data files.\n",
    "!curl --insecure https://raw.githubusercontent.com/cms-opendata-education/cms-jupyter-materials-finnish/master/Data/piikkidata1.csv > piikkidata1.csv\n",
    "!curl --insecure https://raw.githubusercontent.com/cms-opendata-education/cms-jupyter-materials-finnish/master/Data/piikkidata2.csv > piikkidata2.csv\n",
    "!curl --insecure https://raw.githubusercontent.com/cms-opendata-education/cms-jupyter-materials-finnish/master/Data/piikkidata3.csv > piikkidata3.csv\n",
    "!curl --insecure https://raw.githubusercontent.com/cms-opendata-education/cms-jupyter-materials-finnish/master/Data/piikkidata4.csv > piikkidata4.csv\n",
    "!curl --insecure https://raw.githubusercontent.com/cms-opendata-education/cms-jupyter-materials-finnish/master/Data/piikkidata5.csv > piikkidata5.csv\n",
    "!curl --insecure https://raw.githubusercontent.com/cms-opendata-education/cms-jupyter-materials-finnish/master/Data/piikkidata6.csv > piikkidata6.csv"
   ]
  },
  {
   "cell_type": "markdown",
   "metadata": {},
   "source": [
    "\n",
    "\"**\\#**\" marks comment lines, that the computer won't process as code. Commenting the code helps understanding it.\n",
    "\n",
    "Delete the **\\#**-character from the line that your group will be analysing. Run the cell.\n",
    "\n",
    "The command `pd.read_csv()` reads the csv-file in the brackets and saves the data in a table variable. Name the variable as follows: _peakdata_ + _group nr_.\n",
    "\n"
   ]
  },
  {
   "cell_type": "code",
   "execution_count": 2,
   "metadata": {
    "slideshow": {
     "slide_type": "skip"
    }
   },
   "outputs": [],
   "source": [
    "peakdata1 = pd.read_csv('piikkidata1.csv')\n",
    "\n",
    "#peakdata2 = pd.read_csv('piikkidata2.csv')\n",
    "\n",
    "#peakdata3 = pd.read_csv('piikkidata3.csv')\n",
    "\n",
    "#peakdata4 = pd.read_csv('piikkidata4.csv')\n",
    "\n",
    "#peakdata5 = pd.read_csv('piikkidata5.csv')\n",
    "\n",
    "#peakdata6 = pd.read_csv('piikkidata6.csv')"
   ]
  },
  {
   "cell_type": "markdown",
   "metadata": {
    "slideshow": {
     "slide_type": "skip"
    }
   },
   "source": [
    "In the previous code cell, the file was downloaded from the internet, read as a csv-file and saved as a variable. But how do we know what the downloaded data looks like? Study the group's peakdata and answer the questions.\n",
    "\n",
    "Hint: If you get stuck, check out the [previous](#alustus) code cells!"
   ]
  },
  {
   "cell_type": "markdown",
   "metadata": {
    "slideshow": {
     "slide_type": "skip"
    }
   },
   "source": [
    "\n",
    "## Study the downloaded file\n",
    "Next, you will be writing your own code.\n",
    "\n",
    "There are several collision events in the downloaded data and there are several values from each collision. Additionally, two muons were born in every event and therefore there are two values for each muon in the data. The values are numbered 1 or 2 to distinguish the muons.\n",
    "\n",
    "__For the exercises__ you need:\n",
    "   - __px__ : $p_x$ on kyseisen myonin (1 tai 2) liikemäärän x-akselin suuntainen komponentti (GeV).\n",
    "   - __py__ : $p_y$ on myonin (1 tai 2) liikemäärän y-komponentti (GeV).\n",
    "   - __pz__ : $p_z$ on myonin (1 tai 2) liikemäärän z-komponentti (GeV).\n",
    "   - __E1 ja E2__ : $E$ on myonin (1 tai 2) energia (GeV).\n",
    "\n",
    "Tehtävän kannalta __oleellisia ovat__:\n",
    "   - __px__ : $p_x$ on kyseisen myonin (1 tai 2) liikemäärän x-akselin suuntainen komponentti (GeV).\n",
    "   - __py__ : $p_y$ on myonin (1 tai 2) liikemäärän y-komponentti (GeV).\n",
    "   - __pz__ : $p_z$ on myonin (1 tai 2) liikemäärän z-komponentti (GeV).\n",
    "   - __E1 ja E2__ : $E$ on myonin (1 tai 2) energia (GeV).\n",
    "   \n",
    "\n",
    "<br>\n",
    "<details>\n",
    "    <summary>Muita arvoja taulukossa</summary>\n",
    "    \n",
    "   - __Run__ ja __Event__ : kertovat mistä törmäyksestä kyseisen rivin data on peräisin.\n",
    "   - __pt__ : $p_t$ (transverse momentum) myonin liikemäärän komponentti joka on kohtisuorassa hiukkassuihkua vastaan (GeV).\n",
    "   - __eta__ : $\\eta$ on pseudorapiditeetti.\n",
    "   - __phi__ : $\\phi$ (atsimuuttikulma) on kulma jonka suuntaan hiukkanen kulkee jos detektoria tarkastellaan  hiukkassuihkun akselilta (rad).\n",
    "   - __Q__ : on myonin varaus. Jokaisessa dataan valitussa törmäyksessä syntyy myoni ja antimyoni ($\\mu^+ , \\mu^-$) [1].\n",
    "   - __M__ : palataan tähän myöhemmin.\n",
    "   \n",
    "   </details>\n",
    "<br>\n",
    " \n",
    " Kysymykset:\n",
    "- $\\color{blue}{\\text{Kuinka monta mittausta tiedostossa on?}}$\n",
    "- $\\color{blue}{\\text{Mikä on suurin energia, joka myonille on havaittu?}}$\n",
    "- $\\color{blue}{\\text{Mikä on pienin energia, joka myonille on havaittu?}}$\n",
    "\n",
    "\n",
    "Kirjoittakaa koodi jolla saatte vastaukset kysymyksiin. "
   ]
  },
  {
   "cell_type": "code",
   "execution_count": 31,
   "metadata": {
    "tags": []
   },
   "outputs": [],
   "source": [
    "# Käyttäkää head()-funktiota pikkidataanne\n"
   ]
  },
  {
   "cell_type": "code",
   "execution_count": null,
   "metadata": {
    "slideshow": {
     "slide_type": "skip"
    },
    "tags": []
   },
   "outputs": [],
   "source": [
    "# Tähän tulee itse kirjoittamanne koodi\n"
   ]
  },
  {
   "cell_type": "markdown",
   "metadata": {
    "slideshow": {
     "slide_type": "skip"
    }
   },
   "source": [
    "$\\color{purple}{\\text{Tarkistakaa}}$ saamanne arvot ajamalla alla olevat solut ja noudattamalla promptin ohjeita."
   ]
  },
  {
   "cell_type": "code",
   "execution_count": null,
   "metadata": {
    "slideshow": {
     "slide_type": "skip"
    },
    "tags": []
   },
   "outputs": [],
   "source": [
    "#Kuinka monta mittausta tiedostossa on?\n",
    "tarkista_eventit(globals())"
   ]
  },
  {
   "cell_type": "code",
   "execution_count": null,
   "metadata": {},
   "outputs": [],
   "source": [
    "#Mikä on suurin energia, joka myonille on havaittu?\n",
    "tarkista_maksimiE(globals())"
   ]
  },
  {
   "cell_type": "code",
   "execution_count": null,
   "metadata": {},
   "outputs": [],
   "source": [
    "#Mikä on pienin energia, joka myonille on havaittu?\n",
    "tarkista_minimiE(globals())"
   ]
  },
  {
   "cell_type": "markdown",
   "metadata": {
    "slideshow": {
     "slide_type": "skip"
    }
   },
   "source": [
    "\n",
    "## Invariantin massan laskeminen\n",
    "\n",
    "Datassa on havaintoja kahdesta törmäyksen synnyttämästä myonista. Jotta voisimme ymmmärtää paremmin mitä törmäyksessä on todella tapahtunut on dataa kerättävä paljon ja sen perusteella päätellä mitä tapahtui siellä mihin hiukkasilmaisinkaan ei näe. Törmäyksestä sinkoilevista vakaammista hiukkasista ja niiden energioista voimme päätellä invariantin massan avulla mistä ne saattavat olla kotoisin.\n",
    "\n",
    "$\\color{blue}{\\text{Laskekaa ryhmänne datalle invariantin massan arvot}}$, ehkä sieltä löytyy jotain mielenkiintoista?"
   ]
  },
  {
   "cell_type": "markdown",
   "metadata": {
    "slideshow": {
     "slide_type": "skip"
    }
   },
   "source": [
    "Käytetään laskussa seuraavaa lauseketta invariantille massalle \n",
    "\n",
    "$M = \\sqrt{(E_1 + E_2)^2 - \\|\\textbf{p}_1 + \\textbf{p}_2 \\| ^2}$\n",
    "\n",
    "missä $\\|\\textbf{p}_1 + \\textbf{p}_2 \\|^2$ on vektorinormin neliö ja se voidaan laskea seuraavan kaavan mukaisesti,\n",
    "\n",
    " $\\|\\textbf{p}_1 + \\textbf{p}_2 \\|^2=(p_{x1}+p_{x2})^2+(p_{y1}+p_{y2})^2+(p_{z1}+p_{z2})^2$\n",
    "\n",
    "Kannattaa suorittaa välivaiheita ja tallentaa niiden tulokset muuttujiin. Muuttujia voi sitten käyttää lopullisen tuloksen laskemisessa."
   ]
  },
  {
   "cell_type": "code",
   "execution_count": null,
   "metadata": {
    "collapsed": true,
    "jupyter": {
     "outputs_hidden": true
    },
    "slideshow": {
     "slide_type": "skip"
    }
   },
   "outputs": [],
   "source": [
    "#Kirjoittakaa tähän koodi joka suorittaa invariantin massan laskun\n"
   ]
  },
  {
   "cell_type": "markdown",
   "metadata": {
    "slideshow": {
     "slide_type": "skip"
    }
   },
   "source": [
    "$\\color{purple}{\\text{Tarkistakaa}}$ saamanne arvot ajamalla alla oleva solu ja vastaamalla kysymyksiin."
   ]
  },
  {
   "cell_type": "code",
   "execution_count": null,
   "metadata": {
    "collapsed": true,
    "jupyter": {
     "outputs_hidden": true
    },
    "scrolled": true,
    "slideshow": {
     "slide_type": "skip"
    }
   },
   "outputs": [],
   "source": [
    "tarkista_inv_massat(globals())"
   ]
  },
  {
   "cell_type": "markdown",
   "metadata": {
    "slideshow": {
     "slide_type": "skip"
    }
   },
   "source": [
    "\n",
    "<br>\n",
    "<details>\n",
    "    <summary>$\\color{green}{\\text{Psst...}}$</summary>\n",
    "Tarkkasilmäisimmät saattoivatkin jo huomata, että invariantti massa oli jo valmiiksi laskettuna sarakkessa 'M'. Voitte halutessanne vertailla saamianne vastauksia valmiiksi laskettuihin. \n",
    "    \n",
    "        \n",
    "</details>"
   ]
  },
  {
   "cell_type": "markdown",
   "metadata": {
    "slideshow": {
     "slide_type": "skip"
    }
   },
   "source": [
    "\n",
    "## Histogrammi piikkidatasta\n",
    "Voitte tarkastella laskemianne invariantin massan arvoja `head()` funktion avulla, mutta tuhansien numeroiden katselu listana ei ole järkevää. Nähdäksemme fysiikkan mittausten takana, on numerot esitettävä havainnolistavassa muodossa. Tässä kohtaa astuu esiin **histogrammi**. Histogrammi on voittamaton työkalu hiukkasfysiikan tutkimuksessa, jossa tapahtummia on suuri määrä ja ne jakautuvat todennäköisyyksien mukaan.\n",
    "\n",
    "$\\color{blue}{\\text{Piirtäkää laskemistanne invariantin massan arvoista histogrammi.}}$ Kokeilkaa ensin itse ja kurkatkaa sitten _vinkkejä_. Apua saa myös tuttuun tapaan [tutoriaalista](#hist_tut)\n",
    "\n",
    "<details>\n",
    "    <summary>Vinkkejä</summary>\n",
    "\n",
    "    \n",
    "#### tiedosto, eli mistä arvot tulevat \n",
    "Invariantin massan arvot on laskettu jo aiemmin ja tallennettu johonkin muuttujaan. Riittää siis, että käyttää kyseistä muuttujaa.\n",
    "    \n",
    "#### range, eli rajaus\n",
    "Kannattaa ensin tarkastella `max()` ja `min()` funktioiden avulla millaisia arvoja invariantti massa saa laskujenne tuloksena. Näin saadaan määriteltyä histogrammin piirtoalue (`range=(min,max)`) kätevästi.\n",
    "On kuitenkin järkevää rajata kuvaa tarkemmin myös tämän jälkeen, jotta mahdollinen piikki erottuu mahdollisimman hyvin.\n",
    "    \n",
    "#### bins, eli histogrammin lokerot\n",
    "Kokeilkaa eri vaihtoehtoja, ja pitäkää mielessä montako tapahtumaa datassa olikaan. Sen voi tarkistaa myös `len()` funktion avulla. \n",
    "    \n",
    "</details>"
   ]
  },
  {
   "cell_type": "code",
   "execution_count": null,
   "metadata": {
    "collapsed": true,
    "jupyter": {
     "outputs_hidden": true
    },
    "slideshow": {
     "slide_type": "skip"
    }
   },
   "outputs": [],
   "source": [
    "#Kirjoittakaa tähän koodi joka piirtää histogrammin. Muistakaa myös nimetä akselit ja kuvaaja."
   ]
  },
  {
   "cell_type": "markdown",
   "metadata": {
    "slideshow": {
     "slide_type": "skip"
    }
   },
   "source": [
    "****\n",
    "## Pohdintaa\n",
    "\n",
    "$\\color{blue}{\\text{Oliko histogrammissa nähtävissä jonkinlainen kuvio tai jakauma?}}$\n",
    "\n",
    "\n",
    "$\\color{blue}{\\text{Mistä mahdollinen kuvio johtuu, vai voiko se olla sattumaa?}}$\n",
    "\n",
    "\n",
    "$\\color{blue}{\\text{Oliko histogrammin piirtäminen hyödyllistä?}}$\n"
   ]
  },
  {
   "cell_type": "markdown",
   "metadata": {
    "slideshow": {
     "slide_type": "skip"
    }
   },
   "source": [
    "<a id=\"wrapup\"></a>\n",
    "\n",
    "# Tulosten vertailu"
   ]
  },
  {
   "cell_type": "markdown",
   "metadata": {
    "slideshow": {
     "slide_type": "skip"
    }
   },
   "source": [
    "Tarkastelkaa omia tuloksianne ja vertailkaa niitä taulukkoon ja kuvaajaan. **Mistä hiukkasesta sinun piikkidata voisi olla peräisin?**\n",
    "\n",
    "<br>\n",
    " <img src=\"https://github.com/cms-opendata-education/cms-jupyter-materials-finnish/blob/master/Kuvat/inv_massa.PNG?raw=true\"  align=\"right\" width=\"600px\" title=\"[Kuva 8]  Törmäyksestä syntyneiden kahden myonin invariantin massan jakauma vuosilta 2017 ja 2018. Jakaumasta erottaa selvästi niiden hiukkasten piikit jotka voivat hajota kahdeksi myoniksi.\">\n",
    " <br>\n",
    " \n",
    "\n",
    "Lataamanne tiedosto on CMS:n mittausdataa vuodelta 2011. Tiedostoon on valittu vain ne tapahtumat joista on syntynyt kaksi myonia. Kahden myonin data on kiinnostavaa, koska se voi olla peräisin monen eri hiukkasen hajoamisesta. Viereisessä kuvassa on esitetty  kahden myonin invariantin massan jakauma. Jakaumasta erottaa selvästi niiden hiukkasten piikit jotka voivat hajota kahdeksi myoniksi. Oikeassa tutkimuksessa vastaavat ennusteet ovat teoreettisten fyysikoiden tekemiä ja niiden perusteella voidaan päätellä piikin liittyvän tietyn tyyppiseen hiukkaseen. \n",
    "\n",
    "\n",
    " |\tHiukkanen | Massa [GeV]    |\n",
    "|----------|:-----------------:|\n",
    "| η (eta) | 0.548 |\n",
    "|  ρ,  (rho) | 0.775|\n",
    "|    ω (omega)     |  0.782     |\n",
    "|   φ (phi)     | 1.019  |\n",
    "|   J/ψ (J/psi) |  3.097  |\n",
    "|   ψ’ (psi) | 3.686 |\n",
    "| Υ (ypsilon) | 9.460 |\n",
    "| Z-bosoni  | 91.188 |\n",
    "\n"
   ]
  },
  {
   "cell_type": "markdown",
   "metadata": {},
   "source": [
    "# Lisätehtävä\n",
    "\n",
    "Kesäopiskelijallamme on epävarma aavistus siitä mistä _piikkidatat_ saattavat olla peräisin. Hänellä on tietokeneellaan toinen tiedosto jossa on samoihin aikoihin CMS:llä mitattuja myonien arvoja. Alla oleva solu lataa kyseisen tiedoston myös teidän tutkittavaksi.  "
   ]
  },
  {
   "cell_type": "code",
   "execution_count": null,
   "metadata": {
    "collapsed": true,
    "jupyter": {
     "outputs_hidden": true
    },
    "slideshow": {
     "slide_type": "skip"
    }
   },
   "outputs": [],
   "source": [
    "# ladayaan tiedosto ja luetaan se muuttujaan 'dimu2'\n",
    "!curl --insecure https://raw.githubusercontent.com/cms-opendata-education/cms-jupyter-materials-finnish/master/Data/DoubleMuRun2011A.csv > DoubleMuRun2011A.csv\n",
    "dimu2 = pd.read_csv('DoubleMuRun2011A.csv')"
   ]
  },
  {
   "cell_type": "code",
   "execution_count": null,
   "metadata": {
    "collapsed": true,
    "jupyter": {
     "outputs_hidden": true
    },
    "slideshow": {
     "slide_type": "skip"
    }
   },
   "outputs": [],
   "source": [
    "#Tutkikaa tiedostoa esimerkiksi invariantin massan histogrammin avulla.\n"
   ]
  },
  {
   "cell_type": "markdown",
   "metadata": {},
   "source": [
    "Miksi histogrammi näyttää erilaiselta kuin tulosten vertailussa oleva kuvaaja?\n",
    "\n",
    "Miten muokkaisit kuvaajaa jotta se näyttäisi samalta?"
   ]
  },
  {
   "cell_type": "markdown",
   "metadata": {
    "slideshow": {
     "slide_type": "slide"
    }
   },
   "source": [
    "*****\n",
    "<a id=\"sources\"></a>\n",
    "\n",
    "## Lähteet \n",
    "<a id=\"tk\"></a>\n",
    "[1] Tieteen Kuvalehti 7.7.2015. Kvanttimekaniikkaa viidessä minuutissa. Luettu 25.6.2019 <br>\n",
    "Url:https://tieku.fi/luonto/kvanttimekaniikkaa-viidessa-minuutissa\n",
    "\n",
    "<a id=\"tedvideo\"></a>\n",
    "[2] TED Ed Animation, Schrödinger's cat: A thought experiment in quantum mechanics - Chad Orzel. Katseltu 25.6.2019 <br>\n",
    "Url: https://ed.ted.com/lessons/schrodinger-s-cat-a-thought-experiment-in-quantum-mechanics-chad-orzel\n",
    "\n",
    "<a id=\"cernstandard\"></a>\n",
    "[3] The Standard Model, Copyright  © 2019 CERN <br>\n",
    "Url: https://home.cern/science/physics/standard-model\n",
    "\n",
    "<a id=\"diat\"></a>\n",
    "[4] CMS diat suomeksi <br>\n",
    "Url: https://cms-docdb.cern.ch/cgi-bin/PublicDocDB/RetrieveFile?docid=12398&filename=SetOfPostersFN_HQ_small_16092014.pdf\n",
    "\n",
    "<a id=\"cms\"></a>\n",
    "[5] Detector overview, © Copyright CERN <br>\n",
    "Url: https://cms.cern/detector\n",
    "\n",
    "<a id=\"higs\"></a>\n",
    "[6] Determination of the off-shell Higgs boson signal strength in the high-mass ZZ final state with the ATLAS detector. <br>\n",
    "Url: https://atlas.cern/updates/physics-briefing/higgs-boson-s-shadow\n",
    "\n",
    "<a id=\"mitat\"></a>\n",
    "[7] The Large Hadron Collider, Copyright  © 2019 CERN <br>\n",
    "Url: https://home.cern/science/accelerators/large-hadron-collider\n",
    "\n",
    "\n",
    "## Data\n",
    "#### [Demo data] \n",
    "Thomas McCauley (2016). Zmumu. Jupyter Notebook file. <br>\n",
    "Url: https://github.com/tpmccauley/cmsopendata-jupyter/blob/hst-0.1/Zmumu.ipynb\n",
    "\n",
    "#### [Piikkidata]\n",
    "CMS collaboration (2016). DoubleMu primary dataset in AOD format from RunA of 2011 (/DoubleMu/Run2011A-12Oct2013-v1/AOD). CERN Open Data Portal. \n",
    "Url: http://doi.org/10.7483/OPENDATA.CMS.RZ34.QR6N\n",
    "\n",
    "Data collected from collisions will be saved to AOD (Analysis Object Data) files that can be opened with the ROOT program (https://root.cern.ch/). Structures of the files are very complicated so those can't be handled for example in simple data tables.\n",
    "\n",
    "The data used in the analysis has been collected by the CMS detector in 2011. From the original data a CSV file containing only some of the collision events and information has been derived. The original data is saved in AOD format that can be read with ROOT program. Open the link http://opendata.cern.ch/record/17 and take a look how large the original datafile is from the section Characteristics.\n",
    "\n",
    "From the original datafile only collision events with exactly two muons detected have been selected to the CSV file. The selection is done with the code similar to the one in the link http://opendata.cern.ch/record/552. In practice the code will select wanted values from the original file and write them to the CSV file. \n",
    "\n",
    "## Kuvat\n",
    "[Kuva 1]  Standard Model of Elementary Particles.svg From Wikimedia Commons, CC BY-SA 3.0. <br>\n",
    "Url: https://commons.wikimedia.org/wiki/File:Standard_Model_of_Elementary_Particles.svg\n",
    "\n",
    "[Kuva 2] CMS-OUTREACH-2016-013 Title Set of CMS Brochures (2015) Luettu 25.6.2019 <br>\n",
    "Url: https://cds.cern.ch/record/2204854\n",
    "\n",
    "[Kuva 3] CMS-OUTREACH-2016-027, Title\tInteractive Slice of the CMS detector, Author Davis, Siona Ruth (CERN) <br>\n",
    "Url: https://cds.cern.ch/record/2205172\n",
    "\n",
    "[Kuva 4] Khan Academy Using the Right-Hand Rule Luettu 25.6.2019 <br>\n",
    "Url: https://www.khanacademy.org/test-prep/mcat/physical-processes/magnetism-mcat/a/using-the-right-hand-rule\n",
    "\n",
    "\n",
    "[Kuva 5] P. Mouche, Overall view of the LHC. Vue d'ensemble du LHC, 2014. <br>\n",
    "Url: https://cds.cern.ch/record/1708847.\n",
    "\n",
    "\n",
    "[Kuva 6] LHC Project Illustrations / Civil engineering\t\tLHC-PHO-1998-325\n",
    "Magnetic field induced by the LHC dipole's superconducting coils. Conditions of Use © 1998-2019 CERN <br>\n",
    "Url: http://cds.cern.ch/record/841511\n",
    "\n",
    "[Kuva 7] Displays of candidate VHcc events, CMS-PHO-EVENTS-2019-006-12, Conditions of Use © 2019 CERN <br>\n",
    "Url: https://cds.cern.ch/record/2682635\n",
    "\n",
    "[Kuva 8] HLT Dimuon Invariant Mass Distributions in 2017 and 2018 ( CMS DP-2018/055) <br>\n",
    "Url: https://twiki.cern.ch/twiki/bin/view/CMSPublic/HLTDiMuon2017and2018 \n",
    "\n",
    "\n"
   ]
  }
 ],
 "metadata": {
  "kernelspec": {
   "display_name": "Python 3",
   "language": "python",
   "name": "python3"
  },
  "language_info": {
   "codemirror_mode": {
    "name": "ipython",
    "version": 3
   },
   "file_extension": ".py",
   "mimetype": "text/x-python",
   "name": "python",
   "nbconvert_exporter": "python",
   "pygments_lexer": "ipython3",
   "version": "3.10.10"
  },
  "toc-showmarkdowntxt": false,
  "toc-showtags": false,
  "vscode": {
   "interpreter": {
    "hash": "21f109854f6355d526c41eeee3c10629f5ce76e78d921c4a5ce337b7dbd6bda7"
   }
  }
 },
 "nbformat": 4,
 "nbformat_minor": 4
}
